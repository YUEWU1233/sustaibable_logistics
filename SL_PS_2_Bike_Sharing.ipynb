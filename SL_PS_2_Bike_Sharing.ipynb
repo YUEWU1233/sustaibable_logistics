{
  "nbformat": 4,
  "nbformat_minor": 0,
  "metadata": {
    "colab": {
      "provenance": []
    },
    "kernelspec": {
      "name": "python3",
      "display_name": "Python 3"
    },
    "language_info": {
      "name": "python"
    }
  },
  "cells": [
    {
      "cell_type": "markdown",
      "source": [
        "**Bike Sharing Optimization**\n",
        "\n",
        "A bike sharing company operates in a city with four stations: A, B, C, and D. Each station has a limited capacity of bikes that it can store. The company wants to optimize the distribution of bikes across the stations to meet the expected demand for each station. The expected demand is the number of bikes that will be rented from or returned to each station during a certain time period. The company can move bikes between stations using a truck that has a limited capacity of bikes that it can carry. The cost of moving a bike from one station to another depends on the distance between them. The company wants to minimize the total cost of moving bikes while ensuring that each station has enough bikes to satisfy the demand.\n",
        "\n",
        "The following table shows the capacity, demand, and current number of bikes for each station:\n",
        "\n",
        "| Station | Capacity | Demand | Bikes |\n",
        "| --- | --- | --- | --- |\n",
        "| A | 12 | 5 | 3 |\n",
        "| B | 10 | 10 | 8 |\n",
        "| C | 8 | 8 | 6 |\n",
        "| D | 15 | 3 | 9 |\n",
        "\n",
        "The truck can carry up to 10 bikes at a time. The cost of moving a bike from one station to another is proportional to the distance between them, as shown in the following table:\n",
        "\n",
        "| From \\ To | A | B | C | D |\n",
        "| --- | --- | --- | --- | --- |\n",
        "| A | 0 | 2 | 3 | 4 |\n",
        "| B | 2 | 0 | 2 | 3 |\n",
        "| C | 3 | 2 | 0 | 2 |\n",
        "| D | 4 | 3 | 2 | 0 |\n",
        "\n",
        "The problem is to find the optimal number of bikes to move from each station to each other station, such that the total cost is minimized and the demand is satisfied.\n",
        "\n",
        "Here is a possible mathematical model for the problem:\n",
        "\n",
        "Let $x_{ij}$ be the number of bikes to move from station $i$ to station $j$, where $i, j \\in \\{A, B, C, D\\}$ and $i \\neq j$.\n",
        "\n",
        "The decision variables are $x_{ij}$ for all $i \\neq j$.\n",
        "\n",
        "The objective function is to minimize the total cost of moving bikes, which is given by:\n",
        "\n",
        "$$\\min \\sum_{i \\neq j} c_{ij} x_{ij}$$\n",
        "\n",
        "where $c_{ij}$ is the cost of moving a bike from station $i$ to station $j$.\n",
        "\n",
        "The constraints are:\n",
        "\n",
        "- The number of bikes moved from or to a station cannot exceed its capacity:\n",
        "\n",
        "$$\\sum_{j \\neq i} x_{ij} \\leq b_i \\quad \\forall i$$\n",
        "\n",
        "$$\\sum_{j \\neq i} x_{ji} \\leq c_i \\quad \\forall i$$\n",
        "\n",
        "where $b_i$ is the number of bikes at station $i$ and $c_i$ is the capacity of station $i$.\n",
        "\n",
        "- The number of bikes moved from or to a station must satisfy the demand:\n",
        "\n",
        "$$\\sum_{j \\neq i} x_{ji} - \\sum_{j \\neq i} x_{ij} = d_i - b_i \\quad \\forall i$$\n",
        "\n",
        "where $d_i$ is the demand of station $i$ and $b_i$ is the amount of bikes already available at station $i$.\n",
        "\n",
        "- The number of bikes moved by the truck cannot exceed its capacity:\n",
        "\n",
        "$$\\sum_{i \\neq j} x_{ij} \\leq k$$\n",
        "\n",
        "where $k$ is the capacity of the truck.\n",
        "\n",
        "- The number of bikes moved must be non-negative integers:\n",
        "\n",
        "$$x_{ij} \\geq 0 \\quad \\forall i \\neq j$$\n",
        "\n",
        "$$x_{ij} \\in \\mathbb{Z} \\quad \\forall i \\neq j$$\n"
      ],
      "metadata": {
        "id": "-LD8ISuhVTxl"
      }
    },
    {
      "cell_type": "code",
      "source": [
        "!pip3 install ortools"
      ],
      "metadata": {
        "id": "ET4eHal7WcBE"
      },
      "execution_count": null,
      "outputs": []
    },
    {
      "cell_type": "code",
      "source": [
        "from ortools.linear_solver import pywraplp\n",
        "\n",
        "# Create the data\n",
        "stations = [\"A\", \"B\", \"C\", \"D\"]\n",
        "num_stations = len(stations)\n",
        "capacity = [12, 10, 8, 15]\n",
        "demand = [5, 10, 8, 3]\n",
        "bikes = [3, 8, 6, 9]\n",
        "cost = [\n",
        "  [0, 2, 3, 4],\n",
        "  [2, 0, 2, 3],\n",
        "  [3, 2, 0, 2],\n",
        "  [4, 3, 2, 0]\n",
        "]\n",
        "truck_capacity = 10\n",
        "\n",
        "\n",
        "# Create the solver\n",
        "solver = pywraplp.Solver.CreateSolver(\"SCIP\")\n",
        "\n",
        "# Define the decision variables\n",
        "x = {}\n",
        "for i in range(num_stations):\n",
        "    for j in range(num_stations):\n",
        "        if i != j:\n",
        "            x[i, j] = solver.IntVar(0, solver.infinity(), f'x_{stations[i]}_{stations[j]}')\n",
        "\n",
        "# Define the objective function\n",
        "solver.Minimize(solver.Sum(cost[i][j] * x[i, j] for i in range(num_stations) for j in range(num_stations) if i != j))\n",
        "\n",
        "# Add capacity constraints\n",
        "for i in range(num_stations):\n",
        "    solver.Add(solver.Sum(x[i, j] for j in range(num_stations) if j != i) <= bikes[i])\n",
        "    solver.Add(solver.Sum(x[j, i] for j in range(num_stations) if j != i) <= capacity[i])\n",
        "\n",
        "# Add demand constraints\n",
        "for i in range(num_stations):\n",
        "    solver.Add(solver.Sum(x[j, i] for j in range(num_stations) if j != i) - solver.Sum(x[i, j] for j in range(num_stations) if j != i) >= demand[i]- bikes[i])\n",
        "\n",
        "# Add truck capacity constraint\n",
        "solver.Add(solver.Sum(x[i, j] for i in range(num_stations) for j in range(num_stations) if i != j) <= truck_capacity)\n",
        "\n",
        "# Solve the problem\n",
        "status = solver.Solve()\n",
        "\n",
        "# Print the solution\n",
        "if status == pywraplp.Solver.OPTIMAL:\n",
        "    print('Total cost =', solver.Objective().Value())\n",
        "    for i in range(num_stations):\n",
        "        for j in range(num_stations):\n",
        "            if i != j:\n",
        "                print(f'x_{stations[i]}_{stations[j]} =', x[i, j].solution_value())\n",
        "else:\n",
        "    print('The problem does not have an optimal solution.')\n",
        "\n"
      ],
      "metadata": {
        "colab": {
          "base_uri": "https://localhost:8080/"
        },
        "id": "AVroZfoEVcoo",
        "outputId": "3958ba25-d7b3-487c-db49-b0bb24002e9a"
      },
      "execution_count": null,
      "outputs": [
        {
          "output_type": "stream",
          "name": "stdout",
          "text": [
            "Total cost = 18.0\n",
            "x_A_B = 0.0\n",
            "x_A_C = 0.0\n",
            "x_A_D = 0.0\n",
            "x_B_A = 0.0\n",
            "x_B_C = 0.0\n",
            "x_B_D = 0.0\n",
            "x_C_A = 0.0\n",
            "x_C_B = 0.0\n",
            "x_C_D = 0.0\n",
            "x_D_A = 2.0\n",
            "x_D_B = 2.0\n",
            "x_D_C = 2.0\n"
          ]
        }
      ]
    },
    {
      "cell_type": "code",
      "source": [
        "# Import networkx and matplotlib\n",
        "import networkx as nx\n",
        "import matplotlib.pyplot as plt\n",
        "\n",
        "# Create a network graph\n",
        "G = nx.DiGraph()\n",
        "\n",
        "# Add nodes for each station\n",
        "for i in range(num_stations):\n",
        "    G.add_node(stations[i])\n",
        "\n",
        "# Add edges for each bike movement\n",
        "for i in range(num_stations):\n",
        "    for j in range(num_stations):\n",
        "        if i != j and x[i, j].solution_value() > 0:\n",
        "            G.add_edge(stations[i], stations[j], weight=x[i, j].solution_value())\n",
        "\n",
        "# Draw the network graph with labels and edge weights\n",
        "pos = nx.circular_layout(G) # You can choose other layouts as well\n",
        "nx.draw(G, pos, with_labels=True, node_color=\"lightblue\", edge_color=\"gray\")\n",
        "labels = nx.get_edge_attributes(G, \"weight\")\n",
        "nx.draw_networkx_edge_labels(G, pos, edge_labels=labels)\n",
        "plt.show()\n"
      ],
      "metadata": {
        "colab": {
          "base_uri": "https://localhost:8080/",
          "height": 516
        },
        "id": "Xe9wTT-jVGHL",
        "outputId": "eca4aa07-6dfe-418a-dccf-a37871df1c7f"
      },
      "execution_count": null,
      "outputs": [
        {
          "output_type": "display_data",
          "data": {
            "text/plain": [
              "<Figure size 640x480 with 1 Axes>"
            ],
            "image/png": "[encoded data removed]"
          },
          "metadata": {}
        }
      ]
    }
  ]
}