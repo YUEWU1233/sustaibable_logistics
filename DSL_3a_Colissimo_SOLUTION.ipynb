{
  "nbformat": 4,
  "nbformat_minor": 0,
  "metadata": {
    "colab": {
      "provenance": []
    },
    "kernelspec": {
      "name": "python3",
      "display_name": "Python 3"
    },
    "language_info": {
      "name": "python"
    }
  },
  "cells": [
    {
      "cell_type": "markdown",
      "source": [
        "## Session 3 - TSP (i)\n",
        "\n",
        "### Analyzing Optimal Depot Location for Colissimo\n",
        "\n",
        "Scenario:\n",
        "You are a group of students enrolled in an operations research course. Your latest assignment involves analyzing the logistics organization of Colissimo, a parcel delivery service operating in France. Colissimo wants to improve its deliveries between its various post offices in Paris, particularly in the 10th arrondissement, and is considering opening a new depot in the area. Your task is to determine the best location for this new depot among three options provided by Colissimo.\n",
        "\n",
        "Objective:\n",
        "Your objective is to minimize the traveled distance for Colissimo's delivery routes while also considering potential reductions in CO2 emissions to align with Colissimo's ecological responsibilities.\n",
        "\n",
        "Data:\n",
        "You have been provided with data describing the locations of post offices in Paris, including their addresses and geographic coordinates. Additionally, you have a distance matrix calculated based on driving distances between these locations, as well as information about the three possible depot locations: Métro Jean Jaurès, Station de métro \"Couronnes,\" and Gare Paris Saint-Lazare."
      ],
      "metadata": {
        "id": "2pKhMqu0AueO"
      }
    },
    {
      "cell_type": "code",
      "source": [
        "!pip3 install ortools"
      ],
      "metadata": {
        "id": "yjOo-7fdYz8O"
      },
      "execution_count": null,
      "outputs": []
    },
    {
      "cell_type": "code",
      "source": [
        "#Distance Matrix with depot 1 and 11 locations\n",
        "# [\n",
        "# [0, 850, 1000, 1300, 1300, 2300, 1400, 650, 550, 1100, 550],\n",
        "# [2700, 0, 2900, 1500, 3100, 2500, 3700, 1900, 2300, 260, 2000],\n",
        "# [1100, 1400, 0, 1600, 1700, 2800, 1200, 1100, 1100, 1700, 1100],\n",
        "# [1200, 1500, 1600, 0, 1900, 1500, 2300, 550, 1100, 1000, 700],\n",
        "# [1300, 3100, 1400, 1900, 0, 3000, 1200, 1400, 1200, 1700, 1200],\n",
        "# [2300, 1800, 2900, 1200, 3100, 0, 2100, 1700, 2400, 2100, 1900],\n",
        "# [2000, 2700, 2500, 2100, 1900, 2000, 0, 2200, 2200, 3000, 2200],\n",
        "# [750, 950, 1100, 250, 1300, 1600, 1800, 0, 600, 1200, 160],\n",
        "# [550, 2300, 1100, 1100, 1200, 2300, 1500, 700, 0, 1200, 550],\n",
        "# [1200, 300, 1500, 1100, 1600, 2400, 2200, 950, 650, 0, 800],\n",
        "# [1300, 1400, 1600, 1400, 1900, 2400, 2300, 800, 1100, 1600,0],\n",
        "# ]\n",
        "\n",
        "\n",
        "\n",
        "# Distance matrix with Depot 2 and 11 locations\n",
        "# [0, 850, 1000, 1300, 1300, 2300, 1400, 650, 550, 1100, 550, 2500],\n",
        "# [2700, 0, 2900, 1500, 3100, 2500, 3700, 1900, 2300, 260, 2000, 3200],\n",
        "# [1100, 1400, 0, 1600, 1700, 2800, 1200, 1100, 1100, 1700, 1100, 2200],\n",
        "# [1200, 1500, 1600, 0, 1900, 1500, 2300, 550, 1100, 1000, 700, 2200],\n",
        "# [1300, 3100, 1400, 1900, 0, 3000, 1200, 1400, 1200, 1700, 1200, 2500],\n",
        "# [2300, 1800, 2900, 1200, 3100, 0, 2100, 1700, 2400, 2100, 1900, 1500],\n",
        "# [2000, 2700, 2500, 2100, 1900, 2000, 0, 2200, 2200, 3000, 2200, 1300],\n",
        "# [750, 950, 1100, 250, 1300, 1600, 1800, 0, 600, 1200, 160, 2300],\n",
        "# [550, 2300, 1100, 1100, 1200, 2300, 1500, 700, 0, 1200, 550, 2500],\n",
        "# [1200, 300, 1500, 1100, 1600, 2400, 2200, 950, 650, 0, 800, 2900],\n",
        "# [1300, 1400, 1600, 1400, 1900, 2400, 2300, 800, 1100, 1600,0, 3100],\n",
        "# [2200, 1900, 2900, 2600, 1900, 3900, 3100, 1900, 2000, 2100, 2200, 0]\n",
        "\n",
        "\n",
        "\n",
        "# Distance matrix with depot 3 and 11 locations:\n",
        "# [0, 850, 1000, 1300, 1300, 2300, 1400, 650, 550, 1100, 550, 2700],\n",
        "# [2700, 0, 2900, 1500, 3100, 2500, 3700, 1900, 2300, 260, 2000, 3900],\n",
        "# [1100, 1400, 0, 1600, 1700, 2800, 1200, 1100, 1100, 1700, 1100, 3700],\n",
        "# [1200, 1500, 1600, 0, 1900, 1500, 2300, 550, 1100, 1000, 700, 3300],\n",
        "# [1300, 3100, 1400, 1900, 0, 3000, 1200, 1400, 1200, 1700, 1200, 2000],\n",
        "# [2300, 1800, 2900, 1200, 3100, 0, 2100, 1700, 2400, 2100, 1900, 4400],\n",
        "# [2000, 2700, 2500, 2100, 1900, 2000, 0, 2200, 2200, 3000, 2200, 3900],\n",
        "# [750, 950, 1100, 250, 1300, 1600, 1800, 0, 600, 1200, 160, 3100],\n",
        "# [ 550, 2300, 1100, 1100, 1200, 2300, 1500, 700, 0, 1200, 550, 2600],\n",
        "# [1200, 300, 1500, 1100, 1600, 2400, 2200, 950, 650, 0, 800, 2500],\n",
        "# [1300, 1400, 1600, 1400, 1900, 2400, 2300, 800, 1100, 1600,0, 3600],\n",
        "# [2200, 1900, 2900, 2600, 1900, 3900, 3100, 1900, 2000, 2100, 2200, 0]\n"
      ],
      "metadata": {
        "id": "QacWyu3cB_Tt"
      },
      "execution_count": null,
      "outputs": []
    },
    {
      "cell_type": "code",
      "source": [
        "from ortools.constraint_solver import pywrapcp\n",
        "from ortools.constraint_solver import routing_enums_pb2\n",
        "\n",
        "\n",
        "# TSP with 11 locations\n",
        "\n",
        "def create_data_model():\n",
        "    \"\"\"Stores the data for the problem.\"\"\"\n",
        "    # address: 0: 38 Boulevard de Strasbourg, 1: 169 Rue du Faubourg St. Denis, 2: 56 Rue Rene Boulanger, 3: 228 Rue du Faubourg St. Martin, 4: 18 Boulevard de bonne nouvelle, 5: 46 Rue de Sambre et Meuse, 6: 11 Rue Leon Jouhaux, 7: 158 Rue du Faubourg St. Martin, 8: 2 square Alban Satragne, 9: 8 Rue de Dunkerque, 10: 4 Rue du 8 Mai 1945, 11: depot 1\n",
        "    data = {}\n",
        "    data['distance_matrix'] = [\n",
        "        [0, 850, 1000, 1300, 1300, 2300, 1400, 650, 550, 1100, 550, 2300],\n",
        "        [2700, 0, 2900, 1500, 3100, 2500, 3700, 1900, 2300, 260, 2000, 2000],\n",
        "        [1100, 1400, 0, 1600, 1700, 2800, 1200, 1100, 1100, 1700, 1100, 2700],\n",
        "        [1200, 1500, 1600, 0, 1900, 1500, 2300, 550, 1100, 1000, 700, 1100],\n",
        "        [1300, 3100, 1400, 1900, 0, 3000, 1200, 1400, 1200, 1700, 1200, 3000],\n",
        "        [2300, 1800, 2900, 1200, 3100, 0, 2100, 1700, 2400, 2100, 1900, 1900],\n",
        "        [2000, 2700, 2500, 2100, 1900, 2000, 0, 2200, 2200, 3000, 2200, 2800],\n",
        "        [750, 950, 1100, 250, 1300, 1600, 1800, 0, 600, 1200, 160, 1600],\n",
        "        [550, 2300, 1100, 1100, 1200, 2300, 1500, 700, 0, 1200, 550, 2300],\n",
        "        [1200, 300, 1500, 1100, 1600, 2400, 2200, 950, 650, 0, 800, 1900],\n",
        "        [1300, 1400, 1600, 1400, 1900, 2400, 2300, 800, 1100, 1600 ,0, 2400],\n",
        "        [1900, 1100, 2100, 550, 2400, 1200, 2900, 1100, 1700, 1400, 1300, 0]]\n",
        "\n",
        "\n",
        "    data['num_vehicles'] = 1\n",
        "\n",
        "    # The index of the depot, the location where all vehicles start and end their routes.\n",
        "    data['depot'] = 0\n",
        "    return data\n",
        "\n",
        "def print_solution(manager, routing, solution):\n",
        "    \"\"\"Prints solution on console.\"\"\"\n",
        "    print('Objective: {} m'.format(solution.ObjectiveValue()))\n",
        "    index = routing.Start(0)\n",
        "    plan_output = 'Route for vehicle 0:\\n'\n",
        "    route_distance = 0\n",
        "    while not routing.IsEnd(index):\n",
        "        plan_output += ' {} ->'.format(manager.IndexToNode(index))\n",
        "        previous_index = index\n",
        "        index = solution.Value(routing.NextVar(index))\n",
        "        route_distance += routing.GetArcCostForVehicle(previous_index, index, 0)\n",
        "    plan_output += ' {}\\n'.format(manager.IndexToNode(index))\n",
        "    print(plan_output)\n",
        "    plan_output += 'Route distance: {}miles\\n'.format(route_distance)\n",
        "\n",
        "\n",
        "def main():\n",
        "    \"\"\"Entry point of the program.\"\"\"\n",
        "    # Instantiate the data problem.\n",
        "    data = create_data_model()\n",
        "\n",
        "    # Create the routing index manager.\n",
        "    manager = pywrapcp.RoutingIndexManager(len(data['distance_matrix']),\n",
        "                                           data['num_vehicles'], data['depot'])\n",
        "\n",
        "    # Create Routing Model.\n",
        "    routing = pywrapcp.RoutingModel(manager)\n",
        "\n",
        "\n",
        "def distance_callback(from_index, to_index):\n",
        "        \"\"\"Returns the distance between the two nodes.\"\"\"\n",
        "        # Convert from routing variable Index to distance matrix NodeIndex.\n",
        "        from_node = manager.IndexToNode(from_index)\n",
        "        to_node = manager.IndexToNode(to_index)\n",
        "        return data['distance_matrix'][from_node][to_node]\n",
        "\n",
        "\n",
        "data = create_data_model()\n",
        "\n",
        "manager = pywrapcp.RoutingIndexManager(len(data['distance_matrix']),\n",
        "                                       data['num_vehicles'], data['depot'])\n",
        "\n",
        "routing = pywrapcp.RoutingModel(manager)\n",
        "\n",
        "transit_callback_index = routing.RegisterTransitCallback(distance_callback)\n",
        "\n",
        "routing.SetArcCostEvaluatorOfAllVehicles(transit_callback_index)\n",
        "\n",
        "search_parameters = pywrapcp.DefaultRoutingSearchParameters()\n",
        "search_parameters.first_solution_strategy = (\n",
        "        routing_enums_pb2.FirstSolutionStrategy.PATH_CHEAPEST_ARC)\n",
        "\n",
        "\n",
        "solution = routing.SolveWithParameters(search_parameters)\n",
        "\n",
        "if solution:\n",
        "        print_solution(manager, routing, solution)\n",
        "\n"
      ],
      "metadata": {
        "colab": {
          "base_uri": "https://localhost:8080/"
        },
        "id": "iSrZgK_EBCMs",
        "outputId": "36225ed9-3f13-479c-93f7-808fdc2aada3"
      },
      "execution_count": null,
      "outputs": [
        {
          "output_type": "stream",
          "name": "stdout",
          "text": [
            "Objective: 11920 m\n",
            "Route for vehicle 0:\n",
            " 3 -> 7 -> 10 -> 1 -> 9 -> 8 -> 0 -> 4 -> 2 -> 6 -> 5 -> 11 -> 3\n",
            "\n"
          ]
        }
      ]
    }
  ]
}