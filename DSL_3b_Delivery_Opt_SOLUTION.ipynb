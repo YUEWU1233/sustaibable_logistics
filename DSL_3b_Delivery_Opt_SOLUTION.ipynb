{
  "nbformat": 4,
  "nbformat_minor": 0,
  "metadata": {
    "colab": {
      "provenance": []
    },
    "kernelspec": {
      "name": "python3",
      "display_name": "Python 3"
    },
    "language_info": {
      "name": "python"
    }
  },
  "cells": [
    {
      "cell_type": "markdown",
      "source": [
        "Problem description:\n",
        "\n",
        "A delivery company operates a single truck that delivers packages to various locations in a city. The company wants to minimize the total cost of the delivery route, which includes the distance traveled, the fuel consumption, and the carbon emissions. The company also wants to promote sustainability and reduce its environmental impact.\n",
        "\n",
        "The truck has a fixed capacity of 100 packages, and each location has a demand of 1 to 10 packages. The truck starts and ends its route at the depot, which is located at the center of the city. The locations are randomly distributed within a 10 km by 10 km area.\n",
        "\n",
        "The distance between any two locations is calculated using the Euclidean formula. The fuel consumption and the carbon emission depend on the distance, the speed, the road conditions, and the truck characteristics. For simplicity, we assume that the fuel consumption is proportional to the distance, and the carbon emission is proportional to the fuel consumption.\n",
        "\n",
        "The company wants to find the optimal route for the truck that visits all the locations exactly once and returns to the depot, while satisfying the capacity and demand constraints, and minimizing the total cost.\n",
        "\n",
        "Mathematical model:\n",
        "\n",
        "Let n be the number of locations, including the depot. Let d[i][j] be the distance between location i and location j, for i, j = 0, ..., n-1. Let f[i][j] be the fuel consumption when traveling from location i to location j, for i, j = 0, ..., n-1. Let c[i][j] be the carbon emission when traveling from location i to location j, for i, j = 0, ..., n-1. Let w1, w2, and w3 be the weights for the distance, the fuel consumption, and the carbon emission, respectively. Let q[i] be the demand of location i, for i = 0, ..., n-1. Let Q be the capacity of the truck.\n",
        "\n",
        "The decision variables are:\n",
        "\n",
        "- x[i][j]: a binary variable that indicates whether the truck travels from location i to location j, for i, j = 0, ..., n-1.\n",
        "- y[i]: a continuous variable that indicates the position of location i in the route, for i = 0, ..., n-1.\n",
        "\n",
        "The objective function is:\n",
        "\n",
        "$$\\min \\sum_{i=0}^{n-1} \\sum_{j=0}^{n-1} (w_1 d_{ij} + w_2 f_{ij} + w_3 c_{ij}) x_{ij}$$\n",
        "\n",
        "The constraints are:\n",
        "\n",
        "- Flow conservation: for each location i, the truck can enter and leave at most once.\n",
        "\n",
        "$$\\sum_{j=0}^{n-1} x_{ij} = 1, \\quad \\forall i = 0, ..., n-1$$\n",
        "$$\\sum_{i=0}^{n-1} x_{ij} = 1, \\quad \\forall j = 0, ..., n-1$$\n",
        "\n",
        "- Subtour elimination: for each pair of locations i and j, the position of location i in the route must be smaller than the position of location j if the truck travels from i to j.\n",
        "\n",
        "$$y_i + 1 \\leq y_j + n (1 - x_{ij}), \\quad \\forall i, j = 1, ..., n-1, i \\neq j$$\n",
        "\n",
        "- Depot constraints: the position of the depot in the route must be 0.\n",
        "\n",
        "$$y_0 = 0$$\n",
        "\n",
        "- Capacity and demand constraints: the total demand of the locations visited by the truck must not exceed the capacity of the truck.\n",
        "\n",
        "$$\\sum_{i=0}^{n-1} \\sum_{j=0}^{n-1} q_j x_{ij} \\leq Q$$\n"
      ],
      "metadata": {
        "id": "q4SPs_3hdxAU"
      }
    },
    {
      "cell_type": "code",
      "source": [
        "!pip3 install ortools"
      ],
      "metadata": {
        "id": "dz92dfYVazzC"
      },
      "execution_count": null,
      "outputs": []
    },
    {
      "cell_type": "code",
      "source": [
        "# Import the libraries\n",
        "from ortools.constraint_solver import pywrapcp\n",
        "from ortools.linear_solver import pywraplp\n",
        "import numpy as np\n",
        "import math\n",
        "\n",
        "# Define the data\n",
        "\n",
        "# Number of locations, including depot\n",
        "num_locations = 10\n",
        "# Depot location\n",
        "depot = 0\n",
        "# Number of vehicles\n",
        "num_vehicles = 1\n",
        "# Capacity of the truck\n",
        "capacity = 100\n",
        "# Demands of the locations\n",
        "demands = np.random.randint(1, 11, size=num_locations)\n",
        "# Depot has no demand\n",
        "demands[depot] = 0\n",
        "# Size of the area\n",
        "area_size = 10\n",
        "# Coordinates of the locations\n",
        "locations = np.random.uniform(0, area_size, size=(num_locations, 2))\n",
        "# Distance matrix\n",
        "distance_matrix = np.zeros((num_locations, num_locations))\n",
        "# Fuel consumption matrix\n",
        "fuel_matrix = np.zeros((num_locations, num_locations))\n",
        "# Carbon emission matrix\n",
        "carbon_matrix = np.zeros((num_locations, num_locations))\n",
        "# Weight for the distance\n",
        "distance_weight = 1\n",
        "# Weight for the fuel consumption\n",
        "fuel_weight = 2\n",
        "# Weight for the carbon emission\n",
        "carbon_weight = 3\n",
        "# Factor for the fuel consumption\n",
        "fuel_factor = 0.1\n",
        "# Factor for the carbon emission\n",
        "carbon_factor = 2.4\n",
        "\n",
        "# Calculate the distance, the fuel consumption, and the carbon emission matrices\n",
        "for i in range(num_locations):\n",
        "    for j in range(num_locations):\n",
        "        if i != j:\n",
        "            distance_matrix[i][j] = math.sqrt((locations[i][0] - locations[j][0])**2 + (locations[i][1] - locations[j][1])**2)\n",
        "            fuel_matrix[i][j] = distance_matrix[i][j] * fuel_factor\n",
        "            carbon_matrix[i][j] = fuel_matrix[i][j] * carbon_factor\n",
        "\n",
        "# Create the routing model\n",
        "manager = pywrapcp.RoutingIndexManager(num_locations, num_vehicles, depot)\n",
        "routing = pywrapcp.RoutingModel(manager)\n",
        "\n",
        "# Define the cost function\n",
        "def cost_function(from_index, to_index):\n",
        "    # Convert from routing variable Index to distance matrix NodeIndex.\n",
        "    from_node = manager.IndexToNode(from_index)\n",
        "    to_node = manager.IndexToNode(to_index)\n",
        "    return int(distance_weight * distance_matrix[from_node][to_node] + fuel_weight * fuel_matrix[from_node][to_node] + carbon_weight * carbon_matrix[from_node][to_node])\n",
        "\n",
        "# Set the arc cost evaluator\n",
        "transit_callback_index = routing.RegisterTransitCallback(cost_function)\n",
        "routing.SetArcCostEvaluatorOfAllVehicles(transit_callback_index)\n",
        "\n",
        "# Add the capacity and demand constraints\n",
        "def demand_callback(from_index):\n",
        "    # Returns the demand of the node.\n",
        "    # Convert from routing variable Index to demands NodeIndex.\n",
        "    from_node = manager.IndexToNode(from_index)\n",
        "    return demands[from_node]\n",
        "\n",
        "demand_callback_index = routing.RegisterUnaryTransitCallback(demand_callback)\n",
        "routing.AddDimensionWithVehicleCapacity(\n",
        "    demand_callback_index,\n",
        "    0,  # null capacity slack\n",
        "    [capacity],  # vehicle maximum capacities\n",
        "    True,  # start cumul to zero\n",
        "    'Capacity')\n",
        "\n",
        "# Set the search parameters\n",
        "search_parameters = pywrapcp.DefaultRoutingSearchParameters()\n",
        "search_parameters.first_solution_strategy = (routing_enums_pb2.FirstSolutionStrategy.PATH_CHEAPEST_ARC)\n",
        "search_parameters.local_search_metaheuristic = (routing_enums_pb2.LocalSearchMetaheuristic.GUIDED_LOCAL_SEARCH)\n",
        "search_parameters.time_limit.FromSeconds(1)\n",
        "\n",
        "# Solve the problem\n",
        "solution = routing.SolveWithParameters(search_parameters)\n",
        "\n",
        "# Print the solution\n",
        "if solution:\n",
        "    print('Total cost = {}'.format(solution.ObjectiveValue()))\n",
        "    print('Route for vehicle 0:')\n",
        "    index = routing.Start(0)\n",
        "    route_distance = 0\n",
        "    route_fuel = 0\n",
        "    route_carbon = 0\n",
        "    while not routing.IsEnd(index):\n",
        "        node = manager.IndexToNode(index)\n",
        "        next_node = manager.IndexToNode(solution.Value(routing.NextVar(index)))\n",
        "        route_distance += distance_matrix[node][next_node]\n",
        "        route_fuel += fuel_matrix[node][next_node]\n",
        "        route_carbon += carbon_matrix[node][next_node]\n",
        "        print('{} -> '.format(node), end='')\n",
        "        index = solution.Value(routing.NextVar(index))\n",
        "    node = manager.IndexToNode(index)\n",
        "    print(node)\n",
        "    print('Route distance = {}'.format(route_distance))\n",
        "    print('Route fuel consumption = {}'.format(route_fuel))\n",
        "    print('Route carbon emission = {}'.format(route_carbon))\n",
        "else:\n",
        "    print('No solution found')\n"
      ],
      "metadata": {
        "colab": {
          "base_uri": "https://localhost:8080/"
        },
        "id": "h6DH_oMFdwS8",
        "outputId": "a2153f1a-91ed-4dc7-e45e-f71e5c4371d0"
      },
      "execution_count": null,
      "outputs": [
        {
          "output_type": "stream",
          "name": "stdout",
          "text": [
            "Total cost = 53\n",
            "Route for vehicle 0:\n",
            "0 -> 2 -> 3 -> 8 -> 1 -> 9 -> 5 -> 6 -> 7 -> 4 -> 0\n",
            "Route distance = 29.065564108790667\n",
            "Route fuel consumption = 2.906556410879067\n",
            "Route carbon emission = 6.97573538610976\n"
          ]
        }
      ]
    },
    {
      "cell_type": "code",
      "source": [
        "# Import matplotlib\n",
        "import matplotlib.pyplot as plt\n",
        "\n",
        "# Plot the locations\n",
        "plt.scatter(locations[:, 0], locations[:, 1], c='b')\n",
        "# Plot the depot\n",
        "plt.plot(locations[depot, 0], locations[depot, 1], c='r', marker='*')\n",
        "# Plot the route\n",
        "index = routing.Start(0)\n",
        "while not routing.IsEnd(index):\n",
        "    node = manager.IndexToNode(index)\n",
        "    next_node = manager.IndexToNode(solution.Value(routing.NextVar(index)))\n",
        "    # Draw a line from node to next_node\n",
        "    plt.plot([locations[node, 0], locations[next_node, 0]], [locations[node, 1], locations[next_node, 1]], c='g')\n",
        "    index = solution.Value(routing.NextVar(index))\n",
        "# Show the plot\n",
        "plt.show()\n"
      ],
      "metadata": {
        "colab": {
          "base_uri": "https://localhost:8080/",
          "height": 430
        },
        "id": "DJfJTk-AlRjZ",
        "outputId": "7f76dd96-e740-437f-b4a2-d164afbb3734"
      },
      "execution_count": null,
      "outputs": [
        {
          "output_type": "display_data",
          "data": {
            "text/plain": [
              "<Figure size 640x480 with 1 Axes>"
            ],
            "image/png": "[encoded data removed]"
          },
          "metadata": {}
        }
      ]
    }
  ]
}