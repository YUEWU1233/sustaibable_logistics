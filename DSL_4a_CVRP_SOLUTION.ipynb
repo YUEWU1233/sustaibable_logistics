{
  "nbformat": 4,
  "nbformat_minor": 0,
  "metadata": {
    "colab": {
      "provenance": []
    },
    "kernelspec": {
      "name": "python3",
      "display_name": "Python 3"
    },
    "language_info": {
      "name": "python"
    }
  },
  "cells": [
    {
      "cell_type": "markdown",
      "source": [
        "## Problem Description\n",
        "\n",
        "The city is divided into several districts, each with a waste collection point. The waste management company has a fleet of garbage trucks, all starting from the same depot. Each truck has a maximum capacity, and each collection point generates a certain amount of waste daily. The distances between all points (depot and collection points) are known. The objective is to find the optimal routes for the trucks to collect all waste, minimizing the total distance traveled, and hence, fuel consumption and CO2 emissions.\n",
        "\n",
        "### Mathematical Model\n",
        "\n",
        "This problem can be modeled as a Capacitated Vehicle Routing Problem (CVRP). The main components of the model are:\n",
        "\n",
        "**Variables**: Binary variables x[i,j,k] (1 if truck k travels from point i to point j, 0 otherwise) and continuous variables y[i,k] representing the load of truck k after visiting point i.\n",
        "\n",
        "**Objective function**: Minimize the total distance traveled by all trucks, which is the sum of the distances between points i and j for all trucks k if they travel that route.\n",
        "\n",
        "**Constraints**: Each collection point is visited exactly once by exactly one truck. Each truck starts and ends its route at the depot. The total waste collected by each truck does not exceed its capacity. Subtour elimination constraints to prevent trucks from making unnecessary detours."
      ],
      "metadata": {
        "id": "51IClKs1cbuc"
      }
    },
    {
      "cell_type": "code",
      "source": [
        "!pip3 install ortools"
      ],
      "metadata": {
        "id": "tcngQ-1Kcc7t"
      },
      "execution_count": null,
      "outputs": []
    },
    {
      "cell_type": "code",
      "source": [
        "from ortools.constraint_solver import routing_enums_pb2\n",
        "from ortools.constraint_solver import pywrapcp\n",
        "\n",
        "def create_data_model():\n",
        "    \"\"\"Stores the data for the problem.\"\"\"\n",
        "    data = {}\n",
        "    data['distance_matrix'] = [\n",
        "        [0, 548, 776, 696, 582, 274, 502, 194, 308, 194, 536],\n",
        "        [548, 0, 684, 308, 194, 502, 730, 354, 696, 742, 1084],\n",
        "        [776, 684, 0, 992, 878, 502, 274, 810, 468, 742, 400],\n",
        "        [696, 308, 992, 0, 114, 650, 878, 502, 844, 890, 1232],\n",
        "        [582, 194, 878, 114, 0, 536, 764, 388, 730, 776, 1118],\n",
        "        [274, 502, 502, 650, 536, 0, 228, 308, 194, 240, 582],\n",
        "        [502, 730, 274, 878, 764, 228, 0, 536, 194, 468, 354],\n",
        "        [194, 354, 810, 502, 388, 308, 536, 0, 342, 388, 730],\n",
        "        [308, 696, 468, 844, 730, 194, 194, 342, 0, 274, 616],\n",
        "        [194, 742, 742, 890, 776, 240, 468, 388, 274, 0, 342],\n",
        "        [536, 1084, 400, 1232, 1118, 582, 354, 730, 616, 342, 0]\n",
        "    ]\n",
        "    data['demands'] = [0, 18, 26, 31, 42, 15, 21, 12, 16, 29, 23]\n",
        "    data['vehicle_capacities'] = [100, 100, 100, 100]\n",
        "    data['num_vehicles'] = 4\n",
        "    data['depot'] = 0\n",
        "    return data\n",
        "\n",
        "def print_solution(data, manager, routing, solution):\n",
        "    \"\"\"Prints solution on console.\"\"\"\n",
        "    for vehicle_id in range(data['num_vehicles']):\n",
        "        index = routing.Start(vehicle_id)\n",
        "        plan_output = f'Route for vehicle {vehicle_id}:\\n'\n",
        "        route_distance = 0\n",
        "        while not routing.IsEnd(index):\n",
        "            node_index = manager.IndexToNode(index)\n",
        "            next_node_index = manager.IndexToNode(solution.Value(routing.NextVar(index)))\n",
        "            route_distance += routing.GetArcCostForVehicle(node_index, next_node_index, vehicle_id)\n",
        "            plan_output += f' {node_index} -> '\n",
        "            index = solution.Value(routing.NextVar(index))\n",
        "        node_index = manager.IndexToNode(index)\n",
        "        plan_output += f'{node_index}\\n'\n",
        "        plan_output += f'Distance of the route: {route_distance}m\\n'\n",
        "        print(plan_output)\n",
        "\n",
        "\n",
        "def main():\n",
        "    \"\"\"Solve the CVRP problem.\"\"\"\n",
        "    # Instantiate the data problem.\n",
        "    data = create_data_model()\n",
        "\n",
        "    # Create the routing index manager.\n",
        "    manager = pywrapcp.RoutingIndexManager(len(data['distance_matrix']),\n",
        "                                           data['num_vehicles'], data['depot'])\n",
        "\n",
        "    # Create Routing Model.\n",
        "    routing = pywrapcp.RoutingModel(manager)\n",
        "\n",
        "    # Create and register a transit callback.\n",
        "    def distance_callback(from_index, to_index):\n",
        "        \"\"\"Returns the distance between the two nodes.\"\"\"\n",
        "        return data['distance_matrix'][manager.IndexToNode(from_index)][manager.IndexToNode(to_index)]\n",
        "\n",
        "    transit_callback_index = routing.RegisterTransitCallback(distance_callback)\n",
        "\n",
        "    # Define cost of each arc.\n",
        "    routing.SetArcCostEvaluatorOfAllVehicles(transit_callback_index)\n",
        "\n",
        "    # Add Capacity constraint.\n",
        "    def demand_callback(from_index):\n",
        "        \"\"\"Returns the demand of the node.\"\"\"\n",
        "        return data['demands'][manager.IndexToNode(from_index)]\n",
        "\n",
        "    demand_callback_index = routing.RegisterUnaryTransitCallback(demand_callback)\n",
        "    routing.AddDimensionWithVehicleCapacity(\n",
        "        demand_callback_index,\n",
        "        0,  # null capacity slack\n",
        "        data['vehicle_capacities'],  # vehicle maximum capacities\n",
        "        True,  # start cumul to zero\n",
        "        'Capacity')\n",
        "\n",
        "    # Setting first solution heuristic.\n",
        "    search_parameters = pywrapcp.DefaultRoutingSearchParameters()\n",
        "    search_parameters.first_solution_strategy = (\n",
        "        routing_enums_pb2.FirstSolutionStrategy.PATH_CHEAPEST_ARC)\n",
        "\n",
        "    # Solve the problem.\n",
        "    solution = routing.SolveWithParameters(search_parameters)\n",
        "\n",
        "    # Print solution on console.\n",
        "    if solution:\n",
        "        print_solution(data, manager, routing, solution)\n",
        "\n",
        "\n",
        "if __name__ == '__main__':\n",
        "    main()"
      ],
      "metadata": {
        "colab": {
          "base_uri": "https://localhost:8080/"
        },
        "id": "Mxk2baGan4dw",
        "outputId": "737caeed-dc34-4218-f56c-3d6359174e3f"
      },
      "execution_count": null,
      "outputs": [
        {
          "output_type": "stream",
          "name": "stdout",
          "text": [
            "Route for vehicle 0:\n",
            " 0 ->  9 ->  10 ->  2 ->  6 -> 0\n",
            "Distance of the route: 1712m\n",
            "\n",
            "Route for vehicle 1:\n",
            " 0 ->  1 ->  3 ->  4 -> 0\n",
            "Distance of the route: 1552m\n",
            "\n",
            "Route for vehicle 2:\n",
            " 0 ->  8 ->  5 ->  7 -> 0\n",
            "Distance of the route: 1004m\n",
            "\n",
            "Route for vehicle 3:\n",
            " 0 -> 0\n",
            "Distance of the route: 0m\n",
            "\n"
          ]
        }
      ]
    }
  ]
}