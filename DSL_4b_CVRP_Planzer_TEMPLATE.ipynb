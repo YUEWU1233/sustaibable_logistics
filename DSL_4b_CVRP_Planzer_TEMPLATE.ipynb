{
  "nbformat": 4,
  "nbformat_minor": 0,
  "metadata": {
    "colab": {
      "provenance": []
    },
    "kernelspec": {
      "name": "python3",
      "display_name": "Python 3"
    },
    "language_info": {
      "name": "python"
    }
  },
  "cells": [
    {
      "cell_type": "markdown",
      "source": [
        "## Planzer: Optimizing distribution routes\n",
        "\n"
      ],
      "metadata": {
        "id": "SB0b5-BxsrwE"
      }
    },
    {
      "cell_type": "code",
      "source": [
        "!pip install ortools"
      ],
      "metadata": {
        "id": "fp5QkorDlQYo"
      },
      "execution_count": null,
      "outputs": []
    },
    {
      "cell_type": "code",
      "execution_count": null,
      "metadata": {
        "colab": {
          "base_uri": "https://localhost:8080/"
        },
        "id": "lF9xDit8hlkr",
        "outputId": "bea0f870-ff4b-43b3-90cc-91ce56516b14"
      },
      "outputs": [
        {
          "output_type": "stream",
          "name": "stdout",
          "text": [
            "Route for vehicle 0:\n",
            " 0 Load(0) ->  9 Load(1875) ->  0 Load(1875)\n",
            "Distance of the route: 598.0km\n",
            "Load of the route: 1875\n",
            "\n",
            "Route for vehicle 1:\n",
            " 0 Load(0) ->  2 Load(37) ->  4 Load(187) ->  7 Load(416) ->  6 Load(1295) ->  8 Load(1611) ->  0 Load(1611)\n",
            "Distance of the route: 627.5km\n",
            "Load of the route: 1611\n",
            "\n",
            "Route for vehicle 2:\n",
            " 0 Load(0) ->  5 Load(150) ->  3 Load(613) ->  11 Load(838) ->  10 Load(1550) ->  1 Load(1820) ->  0 Load(1820)\n",
            "Distance of the route: 530.4km\n",
            "Load of the route: 1820\n",
            "\n",
            "Total distance of all routes: 1755.9km\n",
            "Total load of all routes: 5306\n"
          ]
        }
      ],
      "source": [
        "from ortools.constraint_solver import routing_enums_pb2\n",
        "from ortools.constraint_solver import pywrapcp\n",
        "\n",
        "def create_data_model():\n",
        "    \"\"\"Stores the data for the problem.\"\"\"\n",
        "    data = {}\n",
        "    # Data multiplied by a factor of 10 to avoid non-integer numbers\n",
        "    data['distance_matrix'] = [\n",
        "        [0, 8, 37, 750, 1700, 247, 2890, 2910, 2750, 2990, 2620, 2650],\n",
        "        [8, 0, 7, 644, 1590, 200, 2870, 2790, 2660, 2880, 2510, 2550],\n",
        "        [37, 7, 0, 638, 1580, 193, 2750, 2780, 2650, 2790, 2510, 2540],\n",
        "        [750, 644, 638, 0, 1080, 488, 2240, 2280, 2120, 2250, 2000, 2020],\n",
        "        [1700, 1590, 1580, 1080, 0, 1430, 1250, 1280, 1130, 1260, 979, 1010],\n",
        "        [247, 200, 193, 488, 1430, 0, 2620, 2660, 2500, 2640, 2360, 2390],\n",
        "        [2890, 2870, 2750, 2240, 1250, 2620, 0, 114, 514, 16, 837, 884],\n",
        "        [2910, 2790, 2780, 2280, 1280, 2660, 114, 0, 632, 118, 887, 918],\n",
        "        [2750, 2660, 2650, 2120, 1130, 2500, 514, 632, 0, 521, 978, 1010],\n",
        "        [2990, 2880, 2790, 2250, 1260, 2640, 16, 118, 521, 0, 945, 976],\n",
        "        [2620, 2510, 2510, 2000, 979, 2360, 837, 887, 978, 945, 0, 31],\n",
        "        [2650, 2550, 2540, 2020, 1010, 2390, 884, 918, 1010, 976, 31, 0]\n",
        "    ]\n",
        "    data['demands'] = [0, 270, 37, 463, 150, 150, 879, 229, 316, 1875, 712, 225]\n",
        "    data['vehicle_capacities'] = [1875, 1875, 1875]\n",
        "    data['num_vehicles'] = 3\n",
        "    data['depot'] = 0\n",
        "    return data\n",
        "\n",
        "\n",
        "def print_solution(data, manager, routing, solution):\n",
        "    \"\"\"Prints solution on console.\"\"\"\n",
        "    total_distance = 0\n",
        "    total_load = 0\n",
        "    for vehicle_id in range(data['num_vehicles']):\n",
        "        index = routing.Start(vehicle_id)\n",
        "        plan_output = 'Route for vehicle {}:\\n'.format(vehicle_id)\n",
        "        route_distance = 0\n",
        "        route_load = 0\n",
        "        while not routing.IsEnd(index):\n",
        "            node_index = manager.IndexToNode(index)\n",
        "            route_load += data['demands'][node_index]\n",
        "            plan_output += ' {0} Load({1}) -> '.format(node_index, route_load)\n",
        "            previous_index = index\n",
        "            index = solution.Value(routing.NextVar(index))\n",
        "            route_distance += routing.GetArcCostForVehicle(\n",
        "                previous_index, index, vehicle_id)\n",
        "        plan_output += ' {0} Load({1})\\n'.format(manager.IndexToNode(index),\n",
        "                                                 route_load)\n",
        "        plan_output += 'Distance of the route: {}km\\n'.format(route_distance/10)\n",
        "        plan_output += 'Load of the route: {}\\n'.format(route_load)\n",
        "        print(plan_output)\n",
        "        total_distance += route_distance\n",
        "        total_load += route_load\n",
        "    print('Total distance of all routes: {}km'.format(total_distance/10))\n",
        "    print('Total load of all routes: {}'.format(total_load))\n",
        "\n",
        "\n",
        "def main():\n",
        "    \"\"\"Solve the CVRP problem.\"\"\"\n",
        "\n",
        "    ## TODO: Complete here\n",
        "\n",
        "\n",
        "main()\n",
        "\n"
      ]
    }
  ]
}