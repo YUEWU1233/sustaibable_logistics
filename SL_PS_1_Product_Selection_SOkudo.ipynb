{
  "nbformat": 4,
  "nbformat_minor": 0,
  "metadata": {
    "colab": {
      "provenance": [],
      "toc_visible": true
    },
    "kernelspec": {
      "name": "python3",
      "display_name": "Python 3"
    },
    "language_info": {
      "name": "python"
    }
  },
  "cells": [
    {
      "cell_type": "markdown",
      "source": [
        "# Product selection problem\n",
        "\n",
        "**Text:** A company has the capacity to produce two types of products, A and B, using available resources. Product A has a profit margin of 300 CHF per unit, while product B has a profit margin of 240 CHF per unit. Each unit of product A requires 240 units of components, while each unit of product B requires 144 units. Additionally, both products require 60 minutes for assembly.\n",
        "Given that the company has 24,000 units of components and 16 days of production time, with each day consisting of 8 hours of total productive time, the objective is to determine the optimal quantities of products A and B to produce in order to maximize profit.\n"
      ],
      "metadata": {
        "id": "rIfrRe0ShI3d"
      }
    },
    {
      "cell_type": "code",
      "execution_count": null,
      "metadata": {
        "id": "1-kqefAieCQo"
      },
      "outputs": [],
      "source": [
        "!pip3 install ortools"
      ]
    },
    {
      "cell_type": "code",
      "source": [
        "from ortools.linear_solver import pywraplp"
      ],
      "metadata": {
        "id": "HOjPvoB9f9Y0"
      },
      "execution_count": null,
      "outputs": []
    },
    {
      "cell_type": "markdown",
      "source": [
        "\n",
        "Objective:\n",
        "Maximize profit by determining the optimal quantities of products A and B to produce.\n",
        "\n",
        "Constraints:\n",
        "1. Limited availability of 24,000 units of components.\n",
        "2. Limited production time of 16 days, each comprising 8 hours of productive time per day.\n",
        "\n",
        "Decision Variables:\n",
        "Let $x$ represent the quantity of product A produced.\n",
        "Let $y$ represent the quantity of product B produced.\n",
        "\n",
        "Mathematical Formulation:\n",
        "Maximize: $300x + 240y$ (Total profit)\n",
        "\n",
        "Subject to:\n",
        "1. $240x + 144y \\leq 24,000$ (Component availability constraint)\n",
        "2. $60x + 60y \\leq 16 \\cdot 8 \\cdot 60$ (Production time constraint)\n",
        "\n",
        "Where:\n",
        "- $x \\geq 0$ (Non-negativity constraint for product A)\n",
        "- $y \\geq 0$ (Non-negativity constraint for product B)\n",
        "\n",
        "The goal is to find the values of $x$ and $y$ that satisfy the constraints and maximize the total profit."
      ],
      "metadata": {
        "id": "8QdsMoeW7L5Z"
      }
    },
    {
      "cell_type": "code",
      "source": [
        "# Solver\n",
        "solver = pywraplp.Solver.CreateSolver('CBC')\n",
        "\n",
        "# Variables\n",
        "x = solver.IntVar(0, solver.infinity(), 'x')\n",
        "y = solver.IntVar(0, solver.infinity(), 'y')"
      ],
      "metadata": {
        "id": "fAnS4LVAeJGo"
      },
      "execution_count": null,
      "outputs": []
    },
    {
      "cell_type": "code",
      "source": [
        "solver.Add(240*x + 144*y <= 24000)\n",
        "solver.Add(60*x + 60*y <= 7680)\n",
        "\n",
        "solver.Maximize (300*x + 240*y)\n",
        "\n",
        "# Solve the system.\n",
        "status = solver.Solve()\n",
        "if status == pywraplp.Solver.OPTIMAL:\n",
        "    print('Solution:')\n",
        "    print('Objective value =', solver.Objective().Value())\n",
        "    print('A =', x.solution_value())\n",
        "    print('B =', y.solution_value())\n",
        "else:\n",
        "    print('The problem does not have an optimal solution.')\n",
        "\n",
        "    print('\\nAdvanced usage:')\n",
        "    print('Problem solved in %f milliseconds' % solver.wall_time())\n",
        "    print('Problem solved in %d iterations' % solver.iterations())\n",
        "    print('Problem solved in %d branch-and-bound nodes' % solver.nodes())"
      ],
      "metadata": {
        "colab": {
          "base_uri": "https://localhost:8080/"
        },
        "id": "GUUZkVNdfDh6",
        "outputId": "cf7335e4-1092-42e0-8ab2-d6dec3910036"
      },
      "execution_count": null,
      "outputs": [
        {
          "output_type": "stream",
          "name": "stdout",
          "text": [
            "Solution:\n",
            "Objective value = 34200.0\n",
            "A = 58.0\n",
            "B = 70.0\n"
          ]
        }
      ]
    },
    {
      "cell_type": "markdown",
      "source": [
        "## Sudoku exercise solution"
      ],
      "metadata": {
        "id": "XtBMrzjKBm_T"
      }
    },
    {
      "cell_type": "code",
      "source": [
        "from ortools.sat.python import cp_model\n",
        "\n",
        "\n",
        "def solve_sudoku():\n",
        "    \"\"\"Solves the sudoku problem with the CP-SAT solver.\"\"\"\n",
        "    # Create the model.\n",
        "    model = cp_model.CpModel()\n",
        "\n",
        "    cell_size = 3\n",
        "    line_size = cell_size**2\n",
        "    line = list(range(0, line_size))\n",
        "    cell = list(range(0, cell_size))\n",
        "\n",
        "    initial_grid = [[0, 6, 0, 0, 5, 0, 0, 2, 0], [0, 0, 0, 3, 0, 0, 0, 9, 0],\n",
        "                    [7, 0, 0, 6, 0, 0, 0, 1, 0], [0, 0, 6, 0, 3, 0, 4, 0, 0],\n",
        "                    [0, 0, 4, 0, 7, 0, 1, 0, 0], [0, 0, 5, 0, 9, 0, 8, 0, 0],\n",
        "                    [0, 4, 0, 0, 0, 1, 0, 0, 6], [0, 3, 0, 0, 0, 8, 0, 0, 0],\n",
        "                    [0, 2, 0, 0, 4, 0, 0, 5, 0]]\n",
        "\n",
        "    grid = {}\n",
        "    for i in line:\n",
        "        for j in line:\n",
        "            grid[(i, j)] = model.NewIntVar(1, line_size, 'grid %i %i' % (i, j))\n",
        "\n",
        "    # AllDifferent on rows.\n",
        "    for i in line:\n",
        "        model.AddAllDifferent(grid[(i, j)] for j in line)\n",
        "\n",
        "    # AllDifferent on columns.\n",
        "    for j in line:\n",
        "        model.AddAllDifferent(grid[(i, j)] for i in line)\n",
        "\n",
        "    # AllDifferent on cells.\n",
        "    for i in cell:\n",
        "        for j in cell:\n",
        "            one_cell = []\n",
        "            for di in cell:\n",
        "                for dj in cell:\n",
        "                    one_cell.append(grid[(i * cell_size + di,\n",
        "                                          j * cell_size + dj)])\n",
        "\n",
        "            model.AddAllDifferent(one_cell)\n",
        "\n",
        "    # Initial values.\n",
        "    for i in line:\n",
        "        for j in line:\n",
        "            if initial_grid[i][j]:\n",
        "                model.Add(grid[(i, j)] == initial_grid[i][j])\n",
        "\n",
        "    # Solve and print out the solution.\n",
        "    solver = cp_model.CpSolver()\n",
        "    status = solver.Solve(model)\n",
        "    if status == cp_model.OPTIMAL:\n",
        "        for i in line:\n",
        "            print([int(solver.Value(grid[(i, j)])) for j in line])\n",
        "\n",
        "\n",
        "solve_sudoku()"
      ],
      "metadata": {
        "id": "Ufa7xLu-Bq2w",
        "colab": {
          "base_uri": "https://localhost:8080/"
        },
        "outputId": "91f42e83-2184-4159-9a1b-163d8db0a0dd"
      },
      "execution_count": null,
      "outputs": [
        {
          "output_type": "stream",
          "name": "stdout",
          "text": [
            "[8, 6, 1, 4, 5, 9, 7, 2, 3]\n",
            "[4, 5, 2, 3, 1, 7, 6, 9, 8]\n",
            "[7, 9, 3, 6, 8, 2, 5, 1, 4]\n",
            "[2, 1, 6, 8, 3, 5, 4, 7, 9]\n",
            "[9, 8, 4, 2, 7, 6, 1, 3, 5]\n",
            "[3, 7, 5, 1, 9, 4, 8, 6, 2]\n",
            "[5, 4, 7, 9, 2, 1, 3, 8, 6]\n",
            "[1, 3, 9, 5, 6, 8, 2, 4, 7]\n",
            "[6, 2, 8, 7, 4, 3, 9, 5, 1]\n"
          ]
        }
      ]
    }
  ]
}